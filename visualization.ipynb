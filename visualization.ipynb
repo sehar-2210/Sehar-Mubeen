{
 "cells": [
  {
   "cell_type": "code",
   "execution_count": 3,
   "id": "47b90ed8",
   "metadata": {},
   "outputs": [],
   "source": [
    "import seaborn as sns\n",
    "import matplotlib.pyplot as plt\n",
    "\n",
    "def plot_seaborn_boxplot(df):\n",
    "    plt.figure(figsize=(10, 6))\n",
    "    sns.boxplot(x='Metabolite', y='Concentration', data=df)\n",
    "    plt.xticks(rotation=45)\n",
    "    plt.tight_layout()\n",
    "    plt.savefig(\"visualizations/boxplot_seaborn.png\")  # ✅ Save in folder\n",
    "    plt.close()\n"
   ]
  },
  {
   "cell_type": "code",
   "execution_count": 1,
   "id": "51f6b205",
   "metadata": {},
   "outputs": [],
   "source": [
    "def plot_matplotlib_barplot(df):\n",
    "    grouped = df.groupby(['Metabolite', 'Condition'])['Concentration'].mean().unstack()\n",
    "    grouped.plot(kind='bar', figsize=(10,6))\n",
    "    plt.ylabel(\"Mean Concentration (μM)\")\n",
    "    plt.tight_layout()\n",
    "    plt.savefig(\"visualizations/barplot_matplotlib.png\")  # ✅ Save in folder\n",
    "    plt.close()\n"
   ]
  },
  {
   "cell_type": "code",
   "execution_count": 2,
   "id": "9c784af3",
   "metadata": {},
   "outputs": [],
   "source": [
    "import plotly.express as px\n",
    "\n",
    "def plot_plotly_line(df, metabolite_name):\n",
    "    subset = df[df['Metabolite'] == metabolite_name]\n",
    "    fig = px.line(subset, x='Replicate', y='Concentration', color='Condition',\n",
    "                  title=f'{metabolite_name} Concentration Trends')\n",
    "    fig.write_html(\"visualizations/interactive_plot_plotly.html\")  # ✅ Save in folder\n"
   ]
  }
 ],
 "metadata": {
  "kernelspec": {
   "display_name": "genomics",
   "language": "python",
   "name": "python3"
  },
  "language_info": {
   "codemirror_mode": {
    "name": "ipython",
    "version": 3
   },
   "file_extension": ".py",
   "mimetype": "text/x-python",
   "name": "python",
   "nbconvert_exporter": "python",
   "pygments_lexer": "ipython3",
   "version": "3.13.5"
  }
 },
 "nbformat": 4,
 "nbformat_minor": 5
}
